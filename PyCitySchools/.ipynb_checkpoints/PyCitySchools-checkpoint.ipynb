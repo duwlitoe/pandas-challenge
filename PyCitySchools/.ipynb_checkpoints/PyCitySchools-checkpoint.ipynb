{
 "cells": [
  {
   "cell_type": "code",
   "execution_count": null,
   "metadata": {},
   "outputs": [],
   "source": [
    "# Dependencies\n",
    "import pandas as pd\n"
   ]
  },
  {
   "cell_type": "code",
   "execution_count": null,
   "metadata": {},
   "outputs": [],
   "source": [
    "# Reference the files where the CSV is located\n",
    "\n",
    "school_data = \"Resources/schools_complete.csv\"\n",
    "\n",
    "student_data = \"Resources/students_complete.csv\"\n",
    "\n",
    "\n",
    "# Import the data into a Pandas DataFrame\n",
    "\n",
    "school_df = pd.read_csv(school_data)\n",
    "student_df = pd.read_csv(student_data)\n",
    "\n",
    "#school_df\n",
    "#student_df\n"
   ]
  },
  {
   "cell_type": "code",
   "execution_count": null,
   "metadata": {},
   "outputs": [],
   "source": [
    "# Rename school_name in school_df as school name\n",
    "school_df.rename({\"school_name\" : \"school name\"}, axis=1, inplace=True)\n",
    "\n",
    "# Make a copy of school_df to manipulate to use while coding\n",
    "\n",
    "copy_school_total = school_df.copy()\n",
    "\n",
    "\n"
   ]
  },
  {
   "cell_type": "code",
   "execution_count": null,
   "metadata": {},
   "outputs": [],
   "source": [
    "# Rename school_name in student_df as school name\n",
    "renamed_student_df = student_df.rename(columns={\"school_name\" : \"school name\"})\n",
    "renamed_student_df"
   ]
  },
  {
   "cell_type": "code",
   "execution_count": null,
   "metadata": {},
   "outputs": [],
   "source": [
    "# Create a high level snapshot table of the DISTRICT's key metrics\n",
    "# Calculate total number of schools\n",
    "total_schools = school_df[\"school name\"].count()\n",
    "#total_schools\n",
    "\n",
    "# Calculate total number of students\n",
    "total_students = renamed_student_df[\"school name\"].count()\n",
    "#total_students\n",
    "\n",
    "# Calculate total budget\n",
    "total_budget = school_df[\"budget\"].sum()\n",
    "#total_budget\n",
    "\n",
    "# Calculate the average math score\n",
    "avg_math_score = renamed_student_df[\"math_score\"].mean()\n",
    "#avg_math_score\n",
    "\n",
    "# Calculate the average reading score\n",
    "avg_read_score = renamed_student_df[\"reading_score\"].mean()\n",
    "#avg_read_score"
   ]
  },
  {
   "cell_type": "code",
   "execution_count": null,
   "metadata": {},
   "outputs": [],
   "source": [
    "# Calculate passing math score (70 or greater)\n",
    "math_passing = renamed_student_df.loc[(student_df[\"math_score\"] >=70)]\n",
    "total_pass_math = math_passing[\"math_score\"].count()\n",
    "#total_pass_math\n",
    "\n",
    "math_pass_stu = (total_pass_math/total_students)*100\n",
    "\n",
    "#math_pass_stu"
   ]
  },
  {
   "cell_type": "code",
   "execution_count": null,
   "metadata": {},
   "outputs": [],
   "source": [
    "# Calculate passing reading score (70 or greater)\n",
    "read_passing = renamed_student_df.loc[(student_df[\"reading_score\"] >=70)]\n",
    "total_pass_read = read_passing[\"reading_score\"].count()\n",
    "#total_pass_math\n",
    "\n",
    "read_pass_stu = (total_pass_read/total_students)*100\n",
    "\n",
    "#read_pass_stu\n"
   ]
  },
  {
   "cell_type": "code",
   "execution_count": null,
   "metadata": {},
   "outputs": [],
   "source": [
    "# Calculate the overall passing rate (overall average score), i.e. (avg. math score + avg. reading score)/2\\n\"\n",
    "overall_pass = (avg_read_score + avg_math_score)/2\n",
    "overall_pass"
   ]
  },
  {
   "cell_type": "code",
   "execution_count": null,
   "metadata": {},
   "outputs": [],
   "source": [
    "# Create a dataframe to hold the above results. Optional: give the displayed data cleaner formatting\n",
    "\n",
    "district_summary = {\"Total Schools\": total_schools,\n",
    "                  \"Total Students\": total_students,\n",
    "                  \"Total Budget\":  total_budget,\n",
    "                  \"Average Math Score\": avg_math_score,\n",
    "                  \"Average Reading Score\" : avg_read_score,\n",
    "                   \"% Passing Math\": passing_math_percent,\n",
    "                   \"% Passing Reading\": passing_reading_percent,\n",
    "                  \"% Overall Passing Rate\" : overall_pass \n",
    "                 }\n",
    "\n",
    "district_summary_df = pd.DataFrame([district_summary])\n",
    "\n",
    "\n",
    "\n",
    "district_summary_df[\"% Passing Math\"] = district_summary_df[\"% Passing Math\"].map(\"{:,.2f}%\".format)\n",
    "district_summary_df[\"% Passing Reading\"] =district_summary_df[\"% Passing Reading\"].map(\"{:,.2f}%\".format)\n",
    "district_summary_df[\"% Overall Passing Rate\"] = district_summary_df[\"% Overall Passing Rate\"].map(\"{:,.2f}%\".format)\n",
    "district_summary_df[\"Total Budget\"] = district_summary_df[\"Total Budget\"].map(\"${:,.2f}\".format)\n",
    "district_summary_df[\"Total Students\"] = district_summary_df[\"Total Students\"].map(\"{:,}\".format)\n",
    "\n",
    "\n",
    "\n"
   ]
  },
  {
   "cell_type": "code",
   "execution_count": null,
   "metadata": {},
   "outputs": [],
   "source": [
    "district_summary_df"
   ]
  },
  {
   "cell_type": "code",
   "execution_count": null,
   "metadata": {},
   "outputs": [],
   "source": [
    "# Delete the School ID col from copy_school_total. Not needed.\n",
    "del copy_school_total['School ID']\n",
    "\n",
    "#copy_school_total"
   ]
  },
  {
   "cell_type": "code",
   "execution_count": null,
   "metadata": {},
   "outputs": [],
   "source": [
    "# Calculate the Per Student Budget\n",
    "copy_school_total['Per Student Budget'] = copy_school_total['budget']/copy_school_total['size']\n",
    "\n",
    "copy_school_total"
   ]
  },
  {
   "cell_type": "code",
   "execution_count": null,
   "metadata": {},
   "outputs": [],
   "source": [
    "# Average Math Score & Average Reading Score\n",
    "avg_math_read = renamed_student_df.groupby(['school name'])['reading_score', 'math_score'].mean().reset_index()\n",
    "\n",
    "#avg_math_read"
   ]
  },
  {
   "cell_type": "code",
   "execution_count": null,
   "metadata": {},
   "outputs": [],
   "source": [
    "# Merge avg_math_read with copy_school_total df\n",
    "# Merge on School Name and by 'outer' to include everything\n",
    "copy_school_total = copy_school_total.merge(avg_math_read, on='school name', how=\"outer\")\n",
    "\n",
    "#copy_school_total"
   ]
  },
  {
   "cell_type": "code",
   "execution_count": null,
   "metadata": {
    "scrolled": true
   },
   "outputs": [],
   "source": [
    "# Calculate % Passing Math and % Passing Reading \n",
    "# % Passing Reading\n",
    "total_passing_read = renamed_student_df[renamed_student_df['reading_score']>=70]\n",
    "\n",
    "#% Passing Math\n",
    "total_passing_math = renamed_student_df[renamed_student_df['math_score']>=70]\n",
    "\n",
    "#summary_passing_read\n",
    "#summary_passing_math\n"
   ]
  },
  {
   "cell_type": "code",
   "execution_count": null,
   "metadata": {},
   "outputs": [],
   "source": [
    "# Count the number of students passing in reading \n",
    "pass_read_count_total = total_passing_read.groupby([\"school name\"])['reading_score'].count().reset_index()\n",
    "\n",
    "# Rename the column the 'reading_score' to 'Reading Count'\n",
    "\n",
    "pass_read_count_total.rename({'reading_score' : 'Reading Count'}, axis=1, inplace=True)\n",
    "\n",
    "#pass_read_count_total\n",
    "\n"
   ]
  },
  {
   "cell_type": "code",
   "execution_count": null,
   "metadata": {},
   "outputs": [],
   "source": [
    "# Count the number of students passing in math \n",
    "pass_math_count_total = total_passing_math.groupby([\"school name\"])['math_score'].count().reset_index()\n",
    "\n",
    "# Rename the column the 'math_score' to 'Math Count'\n",
    "pass_math_count_total.rename({'math_score' : 'Math Count'},axis=1,  inplace=True)\n",
    "\n",
    "#pass_math_count_total\n",
    "\n"
   ]
  },
  {
   "cell_type": "code",
   "execution_count": null,
   "metadata": {
    "scrolled": true
   },
   "outputs": [],
   "source": [
    "# Merge pass_math_count_total with pass_read_count_total\n",
    "# Merge on School Name and by 'inner' to include only the contents found in both columns\n",
    "\n",
    "pass_count = pass_math_count_total.merge(pass_read_count_total, on=\"school name\", how='inner')\n",
    "\n",
    "#pass_count\n",
    "\n",
    "    \n",
    "    \n"
   ]
  },
  {
   "cell_type": "code",
   "execution_count": null,
   "metadata": {
    "scrolled": true
   },
   "outputs": [],
   "source": [
    "## Merge copy_school_total with pass_count we just created\n",
    "## We want to merge on School Name and by 'outer' to include everything\n",
    "\n",
    "copy_school_total = copy_school_total.merge(pass_count, on=\"school name\", how='outer')\n",
    "\n",
    "#copy_school_total"
   ]
  },
  {
   "cell_type": "code",
   "execution_count": null,
   "metadata": {},
   "outputs": [],
   "source": [
    "# Calculate % Passing math and reading\n",
    "# % Passing Math\n",
    "copy_school_total['% Passing Math'] = (copy_school_total['Math Count']/copy_school_total['size'])*100\n",
    "\n",
    "# % Passing Reading\n",
    "copy_school_total['% Passing Reading'] = (copy_school_total['Reading Count']/copy_school_total['size'])*100\n",
    "#copy_school_total"
   ]
  },
  {
   "cell_type": "code",
   "execution_count": null,
   "metadata": {},
   "outputs": [],
   "source": [
    "# Delete the Math Count and Reading Count cols from copy_school_total \n",
    "\n",
    "del copy_school_total['Math Count']\n",
    "del copy_school_total['Reading Count']\n",
    "\n",
    "#copy_school_total"
   ]
  },
  {
   "cell_type": "code",
   "execution_count": null,
   "metadata": {},
   "outputs": [],
   "source": [
    "# Calculate % overall passing \n",
    "\n",
    "copy_school_total['% Overall Passing'] = (copy_school_total['% Passing Math'] + copy_school_total['% Passing Reading'])/2\n",
    "\n",
    "#copy_school_total"
   ]
  },
  {
   "cell_type": "code",
   "execution_count": null,
   "metadata": {},
   "outputs": [],
   "source": [
    "# Rename axis for reading and math scores to Avg. Reading Score and Avg. Math Score in copy_school_total\n",
    "copy_school_total.rename({'reading_score':'Avg. Reading Score',\n",
    "                             'math_score':'Avg. Math Score'}, axis=1, inplace=True)"
   ]
  },
  {
   "cell_type": "code",
   "execution_count": null,
   "metadata": {},
   "outputs": [],
   "source": [
    "copy_school_total"
   ]
  },
  {
   "cell_type": "code",
   "execution_count": null,
   "metadata": {
    "scrolled": true
   },
   "outputs": [],
   "source": [
    "# Create a table that highlights the top 5 performing schools based on Overall Passing Rate. \n",
    "\n",
    "top_performing_by_pr_df = copy_school_total.sort_values(by=['% Overall Passing'], ascending=False).head(5)\n",
    "\n",
    "top_performing_by_pr_df.head(5)"
   ]
  },
  {
   "cell_type": "code",
   "execution_count": null,
   "metadata": {},
   "outputs": [],
   "source": [
    "## Create a table that highlights the 5 worst performing schools based on Overall Passing Rate. \n",
    "worst_performing_by_pr_df = copy_school_total.sort_values(by=['% Overall Passing']).head(5)\n",
    "\n",
    "worst_performing_by_pr_df\n"
   ]
  },
  {
   "cell_type": "code",
   "execution_count": null,
   "metadata": {},
   "outputs": [],
   "source": [
    "# Math Scores by Grade\n",
    "nineth_grade = student_df[student_df[\"grade\"] == \"9th\"].groupby(\"school_name\").mean()[\"math_score\"]\n",
    "tenth_grade = student_df[student_df[\"grade\"] == \"10th\"].groupby(\"school_name\").mean()[\"math_score\"]\n",
    "eleventh_grade = student_df[student_df[\"grade\"] == \"11th\"].groupby(\"school_name\").mean()[\"math_score\"]\n",
    "twelveth_grade = student_df[student_df[\"grade\"] == \"12th\"].groupby(\"school_name\").mean()[\"math_score\"]\n",
    "\n",
    "# Create series into dataframe\n",
    "math_grade_df = pd.DataFrame({\"Ninth Grade\": nineth_grade, \"Tenth Grade\": tenth_grade, \"Eleventh Grade\": eleventh_grade, \"Twelveth Grade\": twelveth_grade})  \n",
    "math_grade_df\n"
   ]
  },
  {
   "cell_type": "code",
   "execution_count": null,
   "metadata": {},
   "outputs": [],
   "source": [
    "# Reading Scores by Grade\n",
    "\n",
    "nineth_grade = student_df[student_df[\"grade\"] == \"9th\"].groupby(\"school_name\").mean()[\"reading_score\"]\n",
    "tenth_grade = student_df[student_df[\"grade\"] == \"10th\"].groupby(\"school_name\").mean()[\"reading_score\"]\n",
    "eleventh_grade = student_df[student_df[\"grade\"] == \"11th\"].groupby(\"school_name\").mean()[\"reading_score\"]\n",
    "twelveth_grade = student_df[student_df[\"grade\"] == \"12th\"].groupby(\"school_name\").mean()[\"reading_score\"]\n",
    "\n",
    "# Create series into dataframe\n",
    "reading_grade_df = pd.DataFrame({\"Ninth Grade\": nineth_grade, \"Tenth Grade\": tenth_grade, \"Eleventh Grade\": eleventh_grade, \"Twelveth Grade\": twelveth_grade})  \n",
    "reading_grade_df"
   ]
  },
  {
   "cell_type": "code",
   "execution_count": null,
   "metadata": {},
   "outputs": [],
   "source": [
    "# Copy the copy_school_total and save as scores_by_school_spending\n",
    "scores_by_school_spending = copy_school_total.copy()\n",
    "\n",
    "# Print columns of each to verify they're the same\n",
    "# copy_school_total\n",
    "# scores_by_school_spending.columns"
   ]
  },
  {
   "cell_type": "code",
   "execution_count": null,
   "metadata": {},
   "outputs": [],
   "source": [
    "# Create bins - we will need labels and bins\n",
    "bins = [0, 585, 615, 645, 675]\n",
    "spending_labels = ['$0-585', '$586-615', '$616-645', '$646-675']"
   ]
  },
  {
   "cell_type": "code",
   "execution_count": null,
   "metadata": {},
   "outputs": [],
   "source": [
    "# Use bins and labels to sort through data and divide it up appropriately \n",
    "# save bined data as bins_school_spending variable \n",
    "bins_school_spending = pd.cut(scores_by_school_spending['Per Student Budget'], bins, labels=spending_labels)\n",
    "\n",
    "# Convert bins_school_spending to df\n",
    "bins_school_spending = pd.DataFrame(bins_school_spending)\n",
    "\n",
    "# add Spending Level col \n",
    "copy_school_total['Spending Level'] = bins_school_spending"
   ]
  },
  {
   "cell_type": "code",
   "execution_count": null,
   "metadata": {},
   "outputs": [],
   "source": [
    "# Show columns for bins_school_spending to verify \n",
    "#bins_school_spending.columns"
   ]
  },
  {
   "cell_type": "code",
   "execution_count": null,
   "metadata": {},
   "outputs": [],
   "source": [
    "# Do a groupby on Spending Level and school name\n",
    "scores_by_school_spending = copy_school_total.groupby(['Spending Level'])['Avg. Reading Score',\n",
    "                                                         'Avg. Math Score',\n",
    "                                                         '% Passing Reading',\n",
    "                                                         '% Passing Math',\n",
    "                                                         '% Overall Passing'\n",
    "                                                         ].mean()"
   ]
  },
  {
   "cell_type": "code",
   "execution_count": null,
   "metadata": {},
   "outputs": [],
   "source": [
    "scores_by_school_spending"
   ]
  },
  {
   "cell_type": "code",
   "execution_count": null,
   "metadata": {},
   "outputs": [],
   "source": [
    "# Scores by School Size\n",
    "\n",
    "# Create a copy of copy_school_total and save as scores_by_school_size\n",
    "scores_by_school_size = copy_school_total.copy()\n",
    "\n",
    "# Print scores_by_school_size to verify\n",
    "# scores_by_school_size"
   ]
  },
  {
   "cell_type": "code",
   "execution_count": null,
   "metadata": {},
   "outputs": [],
   "source": [
    "# Create bins - we will need labels and bins\n",
    "bins = [0, 1000, 2000, 5000]\n",
    "size_labels = ['Small', 'Medium', 'Large']"
   ]
  },
  {
   "cell_type": "code",
   "execution_count": null,
   "metadata": {},
   "outputs": [],
   "source": [
    "# Use bins and labels to sort through data and divide it up appropriately \n",
    "# save bin data as bins_school_size variable \n",
    "bins_school_size = pd.cut(scores_by_school_size['size'], bins, labels = size_labels)\n",
    "\n",
    "# Convert bins_school_spending to df\n",
    "bins_school_size = pd.DataFrame(bins_school_size)\n",
    "\n",
    "# add 'School Population' col \n",
    "copy_school_total['School Population'] = bins_school_size"
   ]
  },
  {
   "cell_type": "code",
   "execution_count": null,
   "metadata": {},
   "outputs": [],
   "source": [
    "# Show columns for bins_school_size to verify \n",
    "# bins_school_size.columns"
   ]
  },
  {
   "cell_type": "code",
   "execution_count": null,
   "metadata": {},
   "outputs": [],
   "source": [
    "# Do a groupby on School Population and school name\n",
    "scores_by_school_size = copy_school_total.groupby(['School Population','school name'])['Avg. Reading Score',\n",
    "                                                         'Avg. Math Score',\n",
    "                                                         '% Passing Reading',\n",
    "                                                         '% Passing Math',\n",
    "                                                         '% Overall Passing'\n",
    "                                                         ].mean()\n"
   ]
  },
  {
   "cell_type": "code",
   "execution_count": null,
   "metadata": {},
   "outputs": [],
   "source": [
    "scores_by_school_size"
   ]
  },
  {
   "cell_type": "code",
   "execution_count": null,
   "metadata": {},
   "outputs": [],
   "source": [
    "# Scores by School Type\n",
    "# Create a copy of copy_school_total and save as scores_by_school_type\n",
    "scores_by_school_type = copy_school_total.copy()\n",
    "\n",
    "# Convert scores_by_school_type to df\n",
    "scores_by_school_type = pd.DataFrame(scores_by_school_type)\n",
    "\n",
    "# Print scores_by_school_type cols to verify\n",
    "# scores_by_school_type.columns"
   ]
  },
  {
   "cell_type": "code",
   "execution_count": null,
   "metadata": {},
   "outputs": [],
   "source": [
    "# Do a groupby on School Type\n",
    "scores_by_school_type = copy_school_total.groupby(['type'])['Avg. Reading Score',\n",
    "                                                         'Avg. Math Score',\n",
    "                                                         '% Passing Reading',\n",
    "                                                         '% Passing Math',\n",
    "                                                         '% Overall Passing'\n",
    "                                                         ].mean()"
   ]
  },
  {
   "cell_type": "code",
   "execution_count": null,
   "metadata": {},
   "outputs": [],
   "source": [
    "scores_by_school_type.head()"
   ]
  },
  {
   "cell_type": "code",
   "execution_count": null,
   "metadata": {},
   "outputs": [],
   "source": []
  },
  {
   "cell_type": "code",
   "execution_count": null,
   "metadata": {},
   "outputs": [],
   "source": []
  }
 ],
 "metadata": {
  "kernelspec": {
   "display_name": "Python 3",
   "language": "python",
   "name": "python3"
  },
  "language_info": {
   "codemirror_mode": {
    "name": "ipython",
    "version": 3
   },
   "file_extension": ".py",
   "mimetype": "text/x-python",
   "name": "python",
   "nbconvert_exporter": "python",
   "pygments_lexer": "ipython3",
   "version": "3.6.9"
  }
 },
 "nbformat": 4,
 "nbformat_minor": 2
}
