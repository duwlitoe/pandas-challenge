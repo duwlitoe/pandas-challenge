{
 "cells": [
  {
   "cell_type": "code",
   "execution_count": null,
   "metadata": {},
   "outputs": [],
   "source": [
    "# Dependencies\n",
    "import pandas as pd\n"
   ]
  },
  {
   "cell_type": "code",
   "execution_count": null,
   "metadata": {},
   "outputs": [],
   "source": [
    "# Reference the files where the CSV is located\n",
    "\n",
    "PyCitySchools_csvpath = \"Resources/schools_complete.csv\"\n",
    "\n",
    "PyCityStudents_csvpath = \"Resources/students_complete.csv\"\n",
    "\n",
    "\n",
    "# Import the data into a Pandas DataFrame\n",
    "\n",
    "PyCitySchools_data = pd.read_csv(PyCitySchools_csvpath)\n",
    "\n",
    "PyCitySchools_data.head()\n",
    "\n",
    "\n"
   ]
  },
  {
   "cell_type": "code",
   "execution_count": null,
   "metadata": {},
   "outputs": [],
   "source": [
    "# Import the data into a Pandas DataFrame\n",
    "\n",
    "PyCityStudents_data = pd.read_csv(PyCityStudents_csvpath)\n",
    "\n",
    "PyCityStudents_data.head()"
   ]
  },
  {
   "cell_type": "code",
   "execution_count": null,
   "metadata": {},
   "outputs": [],
   "source": [
    "# Create a high level snapshot table of the DISTRICT's key metrics\n",
    "\n",
    "# Merge PyCitySchools and PyCityStudents dataframes\n",
    "\n",
    "\n",
    "PyCity_data  = pd.merge(PyCitySchools_data, PyCityStudents_data, on=\"school_name\", how=\"left\")\n",
    "\n",
    "PyCity_data.head()\n"
   ]
  },
  {
   "cell_type": "code",
   "execution_count": null,
   "metadata": {},
   "outputs": [],
   "source": [
    "# Calculate total number of schools\n",
    "schools_total = len(PyCity_data[\"school_name\"].unique())\n",
    "schools_total"
   ]
  },
  {
   "cell_type": "code",
   "execution_count": null,
   "metadata": {},
   "outputs": [],
   "source": [
    "# Calculate total number of students\n",
    "students_total = len(PyCity_data[\"Student ID\"].unique())\n",
    "students_total"
   ]
  },
  {
   "cell_type": "code",
   "execution_count": null,
   "metadata": {},
   "outputs": [],
   "source": [
    "# Calculate total budget\n",
    "budget_total = PyCitySchools_data[\"budget\"].sum()\n",
    "\n",
    "budget_total"
   ]
  },
  {
   "cell_type": "code",
   "execution_count": null,
   "metadata": {},
   "outputs": [],
   "source": [
    "# Calculate the average math score\n",
    "math_average = PyCity_data[\"math_score\"].mean()\n",
    "\n",
    "math_average"
   ]
  },
  {
   "cell_type": "code",
   "execution_count": null,
   "metadata": {},
   "outputs": [],
   "source": [
    "# Calculate the average reading score\n",
    "reading_average = PyCity_data[\"reading_score\"].mean()\n",
    "\n",
    "reading_average"
   ]
  },
  {
   "cell_type": "code",
   "execution_count": null,
   "metadata": {},
   "outputs": [],
   "source": [
    "# Calculate the overall passing rate (overall average score), i.e. (avg. math score + avg. reading score)/2\\n\"\n",
    "\n",
    "overall_average = (math_average + reading_average)/2\n",
    "\n",
    "overall_average"
   ]
  },
  {
   "cell_type": "code",
   "execution_count": null,
   "metadata": {},
   "outputs": [],
   "source": [
    "# Calculate the percentage of students with a passing math score (70 or greater)\\n\"\n",
    "# Calculate passing math score (70 or greater)\n",
    "PyCity_data[\"passing_math\"] = PyCity_data[\"math_score\"] >= 70\n",
    "\n",
    "\n",
    "passing_math_percent = ((PyCity_data[\"passing_math\"]).mean())*100\n",
    "\n",
    "passing_math_percent\n"
   ]
  },
  {
   "cell_type": "code",
   "execution_count": null,
   "metadata": {},
   "outputs": [],
   "source": [
    "# Calculate the percentage of students with a passing reading score (70 or greater)\n",
    "# Calculate passing reading score (70 or greater)\n",
    "\n",
    "PyCity_data[\"passing_reading\"] = PyCity_data[\"reading_score\"] >= 70\n",
    "\n",
    "passing_reading_percent = ((PyCity_data[\"passing_reading\"]).mean())*100\n",
    "\n",
    "passing_reading_percent\n",
    "\n"
   ]
  },
  {
   "cell_type": "code",
   "execution_count": null,
   "metadata": {},
   "outputs": [],
   "source": [
    "# Create a dataframe to hold the above results. Optional: give the displayed data cleaner formatting\n",
    "\n",
    "District_total = [{\"Total Schools\": schools_total,\n",
    "                  \"Total Students\": students_total,\n",
    "                  \"Total Budget\":  budget_total,\n",
    "                  \"Average Math Score\": math_average,\n",
    "                  \"Average Reading Score\" : reading_average,\n",
    "                   \"% Passing Math\": passing_math_percent,\n",
    "                   \"% Passing Reading\": passing_reading_percent,\n",
    "                  \"% Overall Passing Rate\" : overall_average \n",
    "                 }]\n",
    "\n",
    "District_Summary = pd.DataFrame(District_total)\n",
    "\n",
    "District_Summary \n",
    "\n",
    "# Optional: give the displayed data cleaner formatting\n",
    "\n",
    "#District_Summary[\"% Passing Math\"] = District_Summary[\"% Passing Math\"].map(\"{:,.2f}%\".format)\n",
    "#District_Summary[\"% Passing Reading\"] =District_Summary[\"% Passing Reading\"].map(\"{:,.2f}%\".format)\n",
    "#District_Summary[\"% Overall Passing Rate\"] = District_Summary[\"% Overall Passing Rate\"].map(\"{:,.2f}%\".format)\n",
    "#District_Summary[\"Total Budget\"] = District_Summary[\"Total Budget\"].map(\"${:,.2f}\".format)\n",
    "#District_Summary[\"Total Students\"] = District_Summary[\"Total Students\"].map(\"{:,}\".format)\n",
    "\n",
    "                "
   ]
  },
  {
   "cell_type": "code",
   "execution_count": null,
   "metadata": {},
   "outputs": [],
   "source": [
    " # Create an overview table that summarizes key metrics about each school, including\n",
    "# Calculate per student budget\n",
    "\n",
    "PyCitySchools_data[\"Per Student Budget\"] = PyCitySchools_data[\"budget\"]/PyCitySchools_data[\"size\"]\n",
    "\n",
    "PyCitySchools_data"
   ]
  },
  {
   "cell_type": "code",
   "execution_count": null,
   "metadata": {},
   "outputs": [],
   "source": [
    "# Average Math Score & Average Reading Score\n",
    "\n",
    "\n",
    "#math_average_school = PyCitySchools_data.groupby(['school_name'])['reading_score', 'math_score'].mean().reset_index()\n"
   ]
  },
  {
   "cell_type": "code",
   "execution_count": null,
   "metadata": {},
   "outputs": [],
   "source": []
  },
  {
   "cell_type": "code",
   "execution_count": null,
   "metadata": {},
   "outputs": [],
   "source": []
  },
  {
   "cell_type": "code",
   "execution_count": null,
   "metadata": {},
   "outputs": [],
   "source": []
  }
 ],
 "metadata": {
  "kernelspec": {
   "display_name": "Python 3",
   "language": "python",
   "name": "python3"
  },
  "language_info": {
   "codemirror_mode": {
    "name": "ipython",
    "version": 3
   },
   "file_extension": ".py",
   "mimetype": "text/x-python",
   "name": "python",
   "nbconvert_exporter": "python",
   "pygments_lexer": "ipython3",
   "version": "3.6.9"
  }
 },
 "nbformat": 4,
 "nbformat_minor": 2
}
